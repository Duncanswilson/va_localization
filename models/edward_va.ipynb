{
 "cells": [
  {
   "cell_type": "code",
   "execution_count": null,
   "metadata": {
    "collapsed": false
   },
   "outputs": [],
   "source": [
    "#copied from here: https://github.com/blei-lab/edward/blob/master/examples/vae.py \n",
    "#first thing: refactor to make printing more sensible \n",
    "\n",
    "from __future__ import absolute_import\n",
    "from __future__ import division\n",
    "from __future__ import print_function\n",
    "\n",
    "import edward as ed\n",
    "import tensorflow as tf\n",
    "\n",
    "from edward.models import Bernoulli, Normal\n",
    "from keras import backend as K\n",
    "from keras.layers import Dense\n",
    "from progressbar import ETA, Bar, Percentage, ProgressBar\n",
    "from scipy.misc import imsave\n",
    "from tensorflow.examples.tutorials.mnist import input_data\n"
   ]
  },
  {
   "cell_type": "code",
   "execution_count": null,
   "metadata": {
    "collapsed": true
   },
   "outputs": [],
   "source": [
    "ed.set_seed(42)\n",
    "\n",
    "M = 100  # batch size during training\n",
    "d = 2  # latent dimension\n"
   ]
  },
  {
   "cell_type": "code",
   "execution_count": null,
   "metadata": {
    "collapsed": false
   },
   "outputs": [],
   "source": [
    "# Probability model (subgraph)\n",
    "z = Normal(mu=tf.zeros([M, d]), sigma=tf.ones([M, d]))\n",
    "hidden = Dense(256, activation='relu')(z.value())\n",
    "x = Bernoulli(logits=Dense(28 * 28)(hidden))\n",
    "\n",
    "# Variational model (subgraph)\n",
    "x_ph = tf.placeholder(tf.float32, [M, 28 * 28])\n",
    "hidden = Dense(256, activation='relu')(x_ph)\n",
    "qz = Normal(mu=Dense(d)(hidden),\n",
    "            sigma=Dense(d, activation='softplus')(hidden))\n",
    "\n",
    "# Bind p(x, z) and q(z | x) to the same TensorFlow placeholder for x.\n",
    "mnist = input_data.read_data_sets(\"data/mnist\", one_hot=True)\n",
    "data = {x: x_ph}"
   ]
  },
  {
   "cell_type": "code",
   "execution_count": null,
   "metadata": {
    "collapsed": true
   },
   "outputs": [],
   "source": [
    "sess = ed.get_session()\n",
    "K.set_session(sess)\n",
    "inference = ed.KLqp({z: qz}, data)\n",
    "optimizer = tf.train.RMSPropOptimizer(0.01, epsilon=1.0)\n",
    "inference.initialize(optimizer=optimizer)"
   ]
  },
  {
   "cell_type": "code",
   "execution_count": null,
   "metadata": {
    "collapsed": false
   },
   "outputs": [],
   "source": [
    "init = tf.initialize_all_variables()\n",
    "init.run()\n",
    "\n",
    "n_epoch = 100\n",
    "n_iter_per_epoch = 1000\n",
    "for epoch in range(n_epoch):\n",
    "  avg_loss = 0.0\n",
    "\n",
    "  widgets = [\"epoch #%d|\" % epoch, Percentage(), Bar(), ETA()]\n",
    "  pbar = ProgressBar(n_iter_per_epoch, widgets=widgets)\n",
    "  pbar.start()\n",
    "  for t in range(n_iter_per_epoch):\n",
    "    pbar.update(t)\n",
    "    x_train, _ = mnist.train.next_batch(M)\n",
    "    info_dict = inference.update(feed_dict={x_ph: x_train})\n",
    "    avg_loss += info_dict['loss']\n",
    "\n",
    "  # Print a lower bound to the average marginal likelihood for an\n",
    "  # image.\n",
    "  avg_loss = avg_loss / n_iter_per_epoch\n",
    "  avg_loss = avg_loss / M\n",
    "  print(\"log p(x) >= {:0.3f}\".format(avg_loss))\n",
    "\n",
    "  # Prior predictive check.\n",
    "  imgs = sess.run(x.value())\n",
    "  for m in range(M):\n",
    "    imsave(\"img/%d.png\" % m, imgs[m].reshape(28, 28))"
   ]
  },
  {
   "cell_type": "code",
   "execution_count": null,
   "metadata": {
    "collapsed": true
   },
   "outputs": [],
   "source": []
  }
 ],
 "metadata": {
  "kernelspec": {
   "display_name": "Python 2",
   "language": "python",
   "name": "python2"
  },
  "language_info": {
   "codemirror_mode": {
    "name": "ipython",
    "version": 2
   },
   "file_extension": ".py",
   "mimetype": "text/x-python",
   "name": "python",
   "nbconvert_exporter": "python",
   "pygments_lexer": "ipython2",
   "version": "2.7.12"
  }
 },
 "nbformat": 4,
 "nbformat_minor": 2
}
